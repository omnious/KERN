{
 "cells": [
  {
   "cell_type": "code",
   "execution_count": 1,
   "metadata": {},
   "outputs": [],
   "source": [
    "import os\n",
    "import json\n",
    "from collections import defaultdict\n",
    "from tqdm import tqdm\n",
    "import glob\n",
    "import matplotlib.pyplot as plt\n",
    "import numpy as np\n",
    "import pandas as pd\n",
    "from dateutil.parser import parse\n",
    "import itertools\n",
    "import datetime\n",
    "import time\n",
    "import torch\n",
    "import random\n",
    "import ast"
   ]
  },
  {
   "cell_type": "code",
   "execution_count": 2,
   "metadata": {},
   "outputs": [],
   "source": [
    "dataset_path = '/home/omnious/workspace/yeskendir/Influencer_Export_autotagged/'\n",
    "oms_dataset = os.path.join(dataset_path, \"influencer_json\")\n",
    "example_file = os.path.join(oms_dataset, \"6a0c0125-2e0a-11ea-90d5-02607f665cd2.json\")\n",
    "nonempty_oms_dataset = os.path.join(dataset_path, \"nonempty_influencer_json\")"
   ]
  },
  {
   "cell_type": "markdown",
   "metadata": {},
   "source": [
    "### Convert upload time to week"
   ]
  },
  {
   "cell_type": "code",
   "execution_count": 3,
   "metadata": {},
   "outputs": [
    {
     "name": "stdout",
     "output_type": "stream",
     "text": [
      "date:  2019-12-30 22:01:19 week_no:  9 1\n"
     ]
    }
   ],
   "source": [
    "# Option 1: date -> week [0, 71]\n",
    "\n",
    "def date2week(upload_date):\n",
    "    # e.g. upload_date =  \"2020-11-14 10:27:43\"\n",
    "    ymd = upload_date.split()[0]\n",
    "    date_series = pd.Series([ymd])\n",
    "    date_series = date_series.map(lambda x: parse(x))\n",
    "    [week_no] = date_series.dt.isocalendar().week.tolist()\n",
    "    last_week_2019 = 20191229  #\"2019-12-29\" # 52\n",
    "    last_week_2020 = 20210103 #\"2021-01-03\" # 53\n",
    "    [year, month, day] = ymd.split(\"-\")\n",
    "    ymd = int(year+month+day)\n",
    "    # print(\"relative week\", week_no)\n",
    "    if ymd > last_week_2019 and ymd < last_week_2020:\n",
    "        week_no += 52\n",
    "    elif ymd > last_week_2020:\n",
    "        week_no += 52 + 53\n",
    "    week_no -= 44\n",
    "    return week_no\n",
    "\n",
    "\n",
    "def format_week(w):\n",
    "    if w <= 8:\n",
    "        return w + 44\n",
    "    elif w <= 61:\n",
    "        return w - 8\n",
    "    else:\n",
    "        return w - 61\n",
    "\n",
    "\n",
    "upload_date = \"2021-03-23 10:27:43\"\n",
    "upload_date = \"2019-12-30 22:01:19\"\n",
    "#upload_date = \"2019-11-19 22:01:19\"\n",
    "\n",
    "#upload_date = \"2020-12-28 22:01:19\"\n",
    "#upload_date = \"2019-11-03 18:33:22\" # earliest date\n",
    "#upload_date = \"2021-06-22 04:30:32\" # latest week\n",
    "week_no = date2week(upload_date)\n",
    "print(\"date: \", upload_date, \"week_no: \", week_no, format_week(week_no))"
   ]
  },
  {
   "cell_type": "markdown",
   "metadata": {},
   "source": [
    "### Build dataset"
   ]
  },
  {
   "cell_type": "code",
   "execution_count": 4,
   "metadata": {},
   "outputs": [
    {
     "name": "stderr",
     "output_type": "stream",
     "text": [
      "100%|██████████| 8433/8433 [1:06:27<00:00,  2.11it/s]\n"
     ]
    }
   ],
   "source": [
    "\n",
    "# Merge some groups: location: local, global, all (location + global)\n",
    "#                    target age: 10, 20, 30 40, >50, 10_20, 20_30, 30_40\n",
    "#                    segment: nano, micro, macro, mega, nano_micro\n",
    "# Merge some influencer groups (above) if MERGE is True\n",
    "MERGE = True\n",
    "N = 88\n",
    "\n",
    "candidate_attributes = ['item', 'color', 'length', 'fit', 'shape', 'neckline', 'collar', \n",
    "                        'look', 'gender', 'sleeve_length', 'sleeve_shape', 'design_detail', 'material', 'print']\n",
    "\n",
    "all_data = {}\n",
    "\n",
    "for file in tqdm(glob.glob(os.path.join(nonempty_oms_dataset, '*.json'))):\n",
    "    with open(file) as json_file:\n",
    "        data = json.load(json_file)\n",
    "        posts = data[\"posts\"]\n",
    "        \n",
    "        # Create influencer groups\n",
    "        #locations = []\n",
    "        locations = [\"location:\" + x[\"name\"] for x in data[\"location\"]]\n",
    "        # merge locations\n",
    "        if MERGE:\n",
    "            locations.append(\"location:All\")\n",
    "        segments = []\n",
    "        segments = [\"segment:\" + x[\"name\"].split()[0].strip() for x in data[\"segment\"]]\n",
    "        # merge segments\n",
    "        if MERGE:\n",
    "            merged_segments = []\n",
    "            if \"segment:Nano\" in segments or \"segment:Micro\" in segments:\n",
    "                merged_segments.append(\"segment:Nano_AND_Micro\")\n",
    "            merged_segments.append(\"segment:All\")\n",
    "            segments.extend(merged_segments)\n",
    "        \n",
    "        target_ages = []\n",
    "        \n",
    "        for age in data[\"target_age\"]:\n",
    "            target_ages.append(\"target_age:\" + age[\"name\"].split(\"''\")[0].strip())\n",
    "        \n",
    "        # merge target_ages\n",
    "        if MERGE:\n",
    "            merged_target_ages = []\n",
    "            if \"target_age:10's\" in target_ages or \"target_age:20's\" in target_ages:\n",
    "                merged_target_ages.append(\"target_age:10's_AND_20's\")\n",
    "            if \"target_age:30's\" in target_ages or \"target_age:20's\" in target_ages:\n",
    "                merged_target_ages.append(\"target_age:20's_AND_30's\")\n",
    "            if \"target_age:30's\" in target_ages or \"target_age:40's\" in target_ages:\n",
    "                merged_target_ages.append(\"target_age:30's_AND_40's\")\n",
    "            merged_target_ages.append(\"target_age:All\")\n",
    "            target_ages.extend(merged_target_ages)\n",
    "        \n",
    "        \n",
    "        forPermutation = [locations, segments, target_ages]\n",
    "        allPermutations = list(itertools.product(*forPermutation))\n",
    "        currInfluencerGroups = []\n",
    "        for p in allPermutations:\n",
    "            influencer_group_name = \"__\".join(p)\n",
    "            currInfluencerGroups.append(influencer_group_name)\n",
    "        \n",
    "        for post in posts:\n",
    "            upload_date = post[\"upload_date\"]\n",
    "            week_no = date2week(upload_date)\n",
    "            thisPostFashionElements = []\n",
    "            for bbox in post[\"bbox\"]:\n",
    "                for attribute in candidate_attributes:\n",
    "                    if not bbox[attribute]:\n",
    "                        continue\n",
    "                    \n",
    "                    uniques_elements = [ast.literal_eval(el1) for el1 in set([str(el2) for el2 in bbox[attribute]])]\n",
    "                    for element in uniques_elements:\n",
    "                        if not element[\"name\"]:\n",
    "                            continue\n",
    "                        fashion_element = \":\".join([attribute, element[\"name\"]])\n",
    "                        thisPostFashionElements.append(fashion_element)\n",
    "            influencerFashionElementPairs = [currInfluencerGroups, thisPostFashionElements]\n",
    "            influencerFashionElementPairs = list(itertools.product(*influencerFashionElementPairs))\n",
    "            \n",
    "            for (IG, FE) in influencerFashionElementPairs:\n",
    "                if IG not in all_data.keys():\n",
    "                    # all_data[IG] = {FE: [[week_no, 1]]}\n",
    "                    all_data[IG] = {FE: [[x, 0] for x in range(N)]}\n",
    "                    all_data[IG][FE][week_no][1] += 1\n",
    "                elif FE not in all_data[IG].keys():\n",
    "                    # all_data[IG][FE] = [[week_no, 1]]\n",
    "                    all_data[IG][FE] = [[x, 0] for x in range(N)]\n",
    "                    all_data[IG][FE][week_no][1] += 1\n",
    "                else:\n",
    "                    all_data[IG][FE][week_no][1] += 1\n",
    "\n"
   ]
  },
  {
   "cell_type": "code",
   "execution_count": 6,
   "metadata": {},
   "outputs": [
    {
     "data": {
      "text/plain": [
       "162"
      ]
     },
     "execution_count": 6,
     "metadata": {},
     "output_type": "execute_result"
    }
   ],
   "source": [
    "len(all_data.keys())"
   ]
  },
  {
   "cell_type": "code",
   "execution_count": 4,
   "metadata": {},
   "outputs": [
    {
     "name": "stderr",
     "output_type": "stream",
     "text": [
      "100%|██████████| 8433/8433 [56:53<00:00,  2.47it/s]   \n"
     ]
    }
   ],
   "source": [
    "\n",
    "# Merge some groups: location: local, global, all (location + global)\n",
    "#                    target age: 10, 20, 30 40, >50, 10_20, 20_30, 30_40\n",
    "#                    segment: nano, micro, macro, mega, nano_micro\n",
    "# Merge some influencer groups (above) if MERGE is True\n",
    "\n",
    "# Build with only one user group\n",
    "\n",
    "'''\n",
    "N = 88\n",
    "\n",
    "candidate_attributes = ['item', 'color', 'length', 'fit', 'shape', 'neckline', 'collar', \n",
    "                        'look', 'gender', 'sleeve_length', 'sleeve_shape', 'design_detail', 'material', 'print']\n",
    "\n",
    "all_data = {}\n",
    "\n",
    "for file in tqdm(glob.glob(os.path.join(nonempty_oms_dataset, '*.json'))):\n",
    "    with open(file) as json_file:\n",
    "        data = json.load(json_file)\n",
    "        posts = data[\"posts\"]\n",
    "        \n",
    "        currInfluencerGroups = [\"location:All__segment:All__target_age:All\"]\n",
    "        \n",
    "        for post in posts:\n",
    "            upload_date = post[\"upload_date\"]\n",
    "            week_no = date2week(upload_date)\n",
    "            thisPostFashionElements = []\n",
    "            for bbox in post[\"bbox\"]:\n",
    "                for attribute in candidate_attributes:\n",
    "                    if not bbox[attribute]:\n",
    "                        continue\n",
    "                    \n",
    "                    uniques_elements = [ast.literal_eval(el1) for el1 in set([str(el2) for el2 in bbox[attribute]])]\n",
    "                    for element in uniques_elements:\n",
    "                        if not element[\"name\"]:\n",
    "                            continue\n",
    "                        fashion_element = \":\".join([attribute, element[\"name\"]])\n",
    "                        thisPostFashionElements.append(fashion_element)\n",
    "            influencerFashionElementPairs = [currInfluencerGroups, thisPostFashionElements]\n",
    "            influencerFashionElementPairs = list(itertools.product(*influencerFashionElementPairs))\n",
    "            \n",
    "            for (IG, FE) in influencerFashionElementPairs:\n",
    "                if IG not in all_data.keys():\n",
    "                    # all_data[IG] = {FE: [[week_no, 1]]}\n",
    "                    all_data[IG] = {FE: [[x, 0] for x in range(N)]}\n",
    "                    all_data[IG][FE][week_no][1] += 1\n",
    "                elif FE not in all_data[IG].keys():\n",
    "                    # all_data[IG][FE] = [[week_no, 1]]\n",
    "                    all_data[IG][FE] = [[x, 0] for x in range(N)]\n",
    "                    all_data[IG][FE][week_no][1] += 1\n",
    "                else:\n",
    "                    all_data[IG][FE][week_no][1] += 1\n",
    "\n",
    "'''\n"
   ]
  },
  {
   "cell_type": "code",
   "execution_count": 5,
   "metadata": {},
   "outputs": [
    {
     "name": "stderr",
     "output_type": "stream",
     "text": [
      "100%|██████████| 1/1 [00:00<00:00, 134.64it/s]"
     ]
    },
    {
     "name": "stdout",
     "output_type": "stream",
     "text": [
      "0.0\n"
     ]
    },
    {
     "name": "stderr",
     "output_type": "stream",
     "text": [
      "\n"
     ]
    }
   ],
   "source": [
    "# remove data with sparsity >= 50%\n",
    "\n",
    "removed = 0\n",
    "total = 0\n",
    "\n",
    "for influencer in tqdm(list(all_data.keys())):\n",
    "    for fashion in list(all_data[influencer].keys()):\n",
    "        zeros = 0\n",
    "        for i in range(len(all_data[influencer][fashion])):\n",
    "            if all_data[influencer][fashion][i][1] == 0:\n",
    "                zeros += 1\n",
    "        \n",
    "        zeros = 100 * zeros / 88\n",
    "        if zeros >= 50:\n",
    "            del all_data[influencer][fashion]\n",
    "            removed += 1\n",
    "        total += 1\n",
    "\n",
    "print(100 * removed / total)\n"
   ]
  },
  {
   "cell_type": "code",
   "execution_count": 6,
   "metadata": {},
   "outputs": [
    {
     "name": "stderr",
     "output_type": "stream",
     "text": [
      "100%|██████████| 1/1 [00:00<00:00, 54.52it/s]\n"
     ]
    }
   ],
   "source": [
    "# format weeks from [0, ..., 87] to [47, ..., 52,1,..., 53,..]\n",
    "for influencer in tqdm(list(all_data.keys())):\n",
    "    for fashion in list(all_data[influencer].keys()):\n",
    "        for i in range(len(all_data[influencer][fashion])):\n",
    "            all_data[influencer][fashion][i][0] = format_week(all_data[influencer][fashion][i][0])"
   ]
  },
  {
   "cell_type": "code",
   "execution_count": 7,
   "metadata": {},
   "outputs": [
    {
     "name": "stderr",
     "output_type": "stream",
     "text": [
      "100%|██████████| 1/1 [00:00<00:00, 16.47it/s]\n"
     ]
    }
   ],
   "source": [
    "#Rank fashion data\n",
    "\n",
    "Tmax = 88\n",
    "'''\n",
    "for influencer in tqdm(list(all_data.keys())):\n",
    "    for t in range(Tmax+1):\n",
    "        Nt = 0\n",
    "        for fashion in list(all_data[influencer].keys()):\n",
    "            if t < len(all_data[influencer][fashion]):\n",
    "                Nt += list(all_data[influencer][fashion][t])[1]\n",
    "        if Nt == 0:\n",
    "            continue\n",
    "        for fashion in list(all_data[influencer].keys()):\n",
    "            if t < len(all_data[influencer][fashion]):\n",
    "                 all_data[influencer][fashion][t][1] /= float(Nt)\n",
    "\n",
    "'''\n",
    "\n",
    "# NEW RANKING\n",
    "\n",
    "\n",
    "for influencer in tqdm(list(all_data.keys())):\n",
    "    for t in range(Tmax+1):\n",
    "        Nt = defaultdict(int)\n",
    "        for fashion in list(all_data[influencer].keys()):\n",
    "            category_name = fashion.split(\":\")[0]\n",
    "            if t < len(all_data[influencer][fashion]):\n",
    "                Nt[category_name] += list(all_data[influencer][fashion][t])[1]\n",
    "            \n",
    "        for fashion in list(all_data[influencer].keys()):\n",
    "            category_name = fashion.split(\":\")[0]\n",
    "            if Nt[category_name] == 0:\n",
    "                continue\n",
    "            if t < len(all_data[influencer][fashion]):\n",
    "                all_data[influencer][fashion][t][1] /= float(Nt[category_name])\n"
   ]
  },
  {
   "cell_type": "code",
   "execution_count": 34,
   "metadata": {},
   "outputs": [],
   "source": [
    "#all_data['location:All__segment:All__target_age:All']['color:Navy']"
   ]
  },
  {
   "cell_type": "code",
   "execution_count": 8,
   "metadata": {},
   "outputs": [
    {
     "name": "stderr",
     "output_type": "stream",
     "text": [
      "100%|██████████| 1/1 [00:00<00:00, 75.60it/s]\n"
     ]
    },
    {
     "data": {
      "image/png": "[encoded data removed]",
      "text/plain": [
       "<Figure size 720x360 with 1 Axes>"
      ]
     },
     "metadata": {
      "needs_background": "light"
     },
     "output_type": "display_data"
    },
    {
     "name": "stdout",
     "output_type": "stream",
     "text": [
      "[6.291390728476821, 1.3245033112582782, 0.6622516556291391, 0.33112582781456956, 0, 0, 0, 0, 0, 0]\n"
     ]
    }
   ],
   "source": [
    "## Count sparsity \n",
    "from collections import defaultdict\n",
    "sparsity = defaultdict(int)\n",
    "total = 0\n",
    "for influencer in tqdm(list(all_data.keys())):\n",
    "    for fashion in list(all_data[influencer].keys()):\n",
    "        zeros = 0\n",
    "        assert len(all_data[influencer][fashion]) == 88\n",
    "        for i in range(len(all_data[influencer][fashion])):\n",
    "            if all_data[influencer][fashion][i][1] == 0:\n",
    "                zeros += 1\n",
    "        zeros = 100 * zeros / 71\n",
    "        if zeros >= 90:\n",
    "            sparsity[\"more 90%\"] += 1\n",
    "        if zeros >= 80:\n",
    "            sparsity[\"more 80%\"] += 1\n",
    "        if zeros >= 70:\n",
    "            sparsity[\"more 70%\"] += 1\n",
    "        if zeros >= 60:\n",
    "            sparsity[\"more 60%\"] += 1\n",
    "        if zeros >= 50:\n",
    "            sparsity[\"more 50%\"] += 1\n",
    "        if zeros >= 40:\n",
    "            sparsity[\"more 40%\"] += 1\n",
    "        if zeros >= 30:\n",
    "            sparsity[\"more 30%\"] += 1\n",
    "        if zeros >= 20:\n",
    "            sparsity[\"more 20%\"] += 1\n",
    "        if zeros >= 10:\n",
    "            sparsity[\"more 10%\"] += 1\n",
    "        if zeros > 0:\n",
    "            sparsity[\"more 0%\"] += 1\n",
    "        #if zeros == 0:\n",
    "        #    sparsity[\"0%\"] += 1\n",
    "        #sparsity[1 + zeros//10] += 1\n",
    "        total += 1\n",
    "for k in sparsity.keys():\n",
    "    sparsity[k] = 100 * sparsity[k] / total\n",
    "\n",
    "x_axis = ['more 0%', 'more 10%', 'more 20%', 'more 30%', 'more 40%', 'more 50%', 'more 60%', 'more 70%', 'more 80%', 'more 90%']\n",
    "y_axis = []\n",
    "for x in x_axis:\n",
    "    y_axis.append(sparsity[x])\n",
    "\n",
    "plt.figure(figsize=(10,5))\n",
    "plt.plot(x_axis, y_axis, 'ro', linestyle='dashed')\n",
    "plt.show()\n",
    "print(y_axis)"
   ]
  },
  {
   "cell_type": "code",
   "execution_count": 9,
   "metadata": {},
   "outputs": [
    {
     "name": "stderr",
     "output_type": "stream",
     "text": [
      "100%|██████████| 1/1 [00:00<00:00, 26.55it/s]\n"
     ]
    }
   ],
   "source": [
    "# Normalize\n",
    "\n",
    "norm_all_data = {}\n",
    "norm_data_stat = {}\n",
    "eps = 0.01\n",
    "#eps = 0.0\n",
    "\n",
    "for influencer in tqdm(list(all_data.keys())):\n",
    "    for fashion in list(all_data[influencer].keys()):\n",
    "        week_num = all_data[influencer][fashion]\n",
    "        timeline = [int(x[0]) for x in week_num]\n",
    "        trend = [x[1] for x in week_num]\n",
    "        if len(trend) == 0 or len(timeline) == 0:\n",
    "            print(\"empty 1: \", influencer, fashion, len(trend), len(timeline))\n",
    "            continue\n",
    "        \n",
    "        max_v = max(trend)\n",
    "        min_v = min(trend)\n",
    "        normed_trend = [max((x-min_v)/(max_v-min_v + 1e-20), eps) for x in trend]\n",
    "        res = []\n",
    "        for time_s, trend_v in zip(timeline, normed_trend):\n",
    "            res.append([time_s, trend_v])\n",
    "        \n",
    "        if len(res) == 0:\n",
    "            print(\"empty 2: \", influencer, fashion, len(res))\n",
    "        \n",
    "        if influencer not in norm_all_data.keys():\n",
    "            norm_all_data[influencer] = {fashion: res}\n",
    "            norm_data_stat[influencer] = {fashion: [min_v, max_v, eps]}\n",
    "        else:\n",
    "            norm_all_data[influencer][fashion] = res\n",
    "            norm_data_stat[influencer][fashion] = [min_v, max_v, eps]\n",
    "        "
   ]
  },
  {
   "cell_type": "code",
   "execution_count": 11,
   "metadata": {},
   "outputs": [],
   "source": [
    "#norm_all_data['location:All__segment:All__target_age:All']['color:Navy']"
   ]
  },
  {
   "cell_type": "code",
   "execution_count": 10,
   "metadata": {},
   "outputs": [
    {
     "name": "stdout",
     "output_type": "stream",
     "text": [
      "/home/omnious/workspace/yeskendir/Influencer_Export_autotagged/12072021_auto_All_data.json\n",
      "/home/omnious/workspace/yeskendir/Influencer_Export_autotagged/12072021_auto_All_data_norm.json\n",
      "SAVED\n"
     ]
    }
   ],
   "source": [
    "# Save files\n",
    "\n",
    "filename = dataset_path + \"12072021_auto_All_data.json\"\n",
    "filename_norm = dataset_path + \"12072021_auto_All_data_norm.json\"\n",
    "print(filename)\n",
    "print(filename_norm)\n",
    "\n",
    "class NpEncoder(json.JSONEncoder):\n",
    "    def default(self, obj):\n",
    "        if isinstance(obj, np.integer):\n",
    "            return int(obj)\n",
    "        elif isinstance(obj, np.floating):\n",
    "            return float(obj)\n",
    "        elif isinstance(obj, np.ndarray):\n",
    "            return obj.tolist()\n",
    "        else:\n",
    "            return super(NpEncoder, self).default(obj)\n",
    "save = True\n",
    "if save:\n",
    "    with open(filename, \"w\") as outfile:\n",
    "        json.dump(norm_all_data, outfile, cls=NpEncoder)\n",
    "\n",
    "    with open(filename_norm, \"w\") as outfile_norm:\n",
    "        json.dump(norm_data_stat, outfile_norm, cls=NpEncoder)\n",
    "    print(\"SAVED\")\n",
    "else:\n",
    "    print(\"NOT SAVED\")"
   ]
  },
  {
   "cell_type": "markdown",
   "metadata": {},
   "source": [
    "### For distance map "
   ]
  },
  {
   "cell_type": "code",
   "execution_count": 4,
   "metadata": {},
   "outputs": [
    {
     "name": "stderr",
     "output_type": "stream",
     "text": [
      "100%|██████████| 8433/8433 [56:34<00:00,  2.48it/s]  \n"
     ]
    }
   ],
   "source": [
    "N = 88 # for Option 1 date2week\n",
    "candidate_attributes = ['item', 'color', 'length', 'fit', 'shape', 'neckline', 'collar', \n",
    "                        'look', 'gender', 'sleeve_length', 'sleeve_shape', 'design_detail', 'material', 'print']\n",
    "fashion_data = {}\n",
    "\n",
    "for file in tqdm(glob.glob(os.path.join(nonempty_oms_dataset, '*.json'))):\n",
    "    with open(file) as json_file:\n",
    "        data = json.load(json_file)\n",
    "        posts = data[\"posts\"]\n",
    "\n",
    "        \n",
    "        for post in posts:\n",
    "            upload_date = post[\"upload_date\"]\n",
    "            week_no = date2week(upload_date)\n",
    "            thisPostFashionElements = []\n",
    "            for bbox in post[\"bbox\"]:\n",
    "                for attribute in candidate_attributes:\n",
    "                    if not bbox[attribute]:\n",
    "                        continue\n",
    "                    uniques_elements = [ast.literal_eval(el1) for el1 in set([str(el2) for el2 in bbox[attribute]])]\n",
    "                    for element in uniques_elements:\n",
    "#                     for element in bbox[attribute]:\n",
    "                        if not element[\"name\"]:\n",
    "                            continue\n",
    "#                         if attribute == \"item\":\n",
    "#                             fashion_element = \":\".join([attribute, element[\"category_name\"], element[\"name\"]])\n",
    "#                         else:\n",
    "                        fashion_element = \":\".join([attribute, element[\"name\"]])\n",
    "                        thisPostFashionElements.append(fashion_element)\n",
    "            \n",
    "            for FE in thisPostFashionElements:\n",
    "                if FE not in fashion_data.keys():\n",
    "                    fashion_data[FE] = [[x, 0] for x in range(N)]\n",
    "                    fashion_data[FE][week_no][1] += 1\n",
    "                else: \n",
    "                    fashion_data[FE][week_no][1] += 1\n",
    "            \n",
    "\n"
   ]
  },
  {
   "cell_type": "code",
   "execution_count": 5,
   "metadata": {},
   "outputs": [],
   "source": [
    "# Rank fashion data\n",
    "\n",
    "# NEW RANKING\n",
    "Tmax = 88\n",
    "for t in range(Tmax+1):\n",
    "    Nt = defaultdict(int)\n",
    "    for fashion in list(fashion_data.keys()):\n",
    "        category_name = fashion.split(\":\")[0]\n",
    "        if t < len(fashion_data[fashion]):\n",
    "            Nt[category_name] += list(fashion_data[fashion][t])[1]\n",
    "\n",
    "    for fashion in list(fashion_data.keys()):\n",
    "        category_name = fashion.split(\":\")[0]\n",
    "        if Nt[category_name] == 0:\n",
    "            continue\n",
    "        if t < len(fashion_data[fashion]):\n",
    "            fashion_data[fashion][t][1] /= float(Nt[category_name])"
   ]
  },
  {
   "cell_type": "code",
   "execution_count": 6,
   "metadata": {},
   "outputs": [],
   "source": [
    "# Normalize fashion data\n",
    "\n",
    "norm_fashion_data = {}\n",
    "norm_fashion_stat = {}\n",
    "eps = 0.01\n",
    "#eps = 0.0\n",
    "\n",
    "for fashion in list(fashion_data.keys()):\n",
    "    week_num = fashion_data[fashion]\n",
    "    timeline = [int(x[0]) for x in week_num]\n",
    "    trend = [x[1] for x in week_num]\n",
    "    if len(trend) == 0 or len(timeline) == 0:\n",
    "        print(\"empty 1: \", fashion, len(trend), len(timeline))\n",
    "        continue\n",
    "\n",
    "    max_v = max(trend)\n",
    "    min_v = min(trend)\n",
    "    normed_trend = [max((x-min_v)/(max_v-min_v + 1e-20), eps) for x in trend]\n",
    "    res = []\n",
    "    for time_s, trend_v in zip(timeline, normed_trend):\n",
    "        res.append([time_s, trend_v])\n",
    "\n",
    "    if len(res) == 0:\n",
    "        print(\"empty 2: \", influencer, fashion, len(res))\n",
    "\n",
    "    if fashion not in norm_fashion_data.keys():\n",
    "        norm_fashion_data[fashion] = res\n",
    "        norm_fashion_stat[fashion] = [min_v, max_v, eps]\n",
    "    else:\n",
    "        norm_fashion_data[fashion] = res\n",
    "        norm_fashion_stat[fashion] = [min_v, max_v, eps]"
   ]
  },
  {
   "cell_type": "code",
   "execution_count": 7,
   "metadata": {},
   "outputs": [
    {
     "name": "stdout",
     "output_type": "stream",
     "text": [
      "/home/omnious/workspace/yeskendir/Influencer_Export_autotagged/01072021_auto_fashion_data.json\n",
      "/home/omnious/workspace/yeskendir/Influencer_Export_autotagged/01072021_auto_fashion_data_norm.json\n"
     ]
    }
   ],
   "source": [
    "filename = dataset_path + \"01072021_auto_fashion_data.json\"\n",
    "filename_norm = dataset_path + \"01072021_auto_fashion_data_norm.json\"\n",
    "print(filename)\n",
    "print(filename_norm)\n",
    "\n",
    "class NpEncoder(json.JSONEncoder):\n",
    "    def default(self, obj):\n",
    "        if isinstance(obj, np.integer):\n",
    "            return int(obj)\n",
    "        elif isinstance(obj, np.floating):\n",
    "            return float(obj)\n",
    "        elif isinstance(obj, np.ndarray):\n",
    "            return obj.tolist()\n",
    "        else:\n",
    "            return super(NpEncoder, self).default(obj)\n",
    "\n",
    "with open(filename, \"w\") as outfile:\n",
    "    json.dump(norm_fashion_data, outfile, cls=NpEncoder)\n",
    "\n",
    "with open(filename_norm, \"w\") as outfile_norm:\n",
    "    json.dump(norm_fashion_stat, outfile_norm, cls=NpEncoder)"
   ]
  },
  {
   "cell_type": "code",
   "execution_count": null,
   "metadata": {},
   "outputs": [],
   "source": []
  },
  {
   "cell_type": "code",
   "execution_count": null,
   "metadata": {},
   "outputs": [],
   "source": []
  }
 ],
 "metadata": {
  "kernelspec": {
   "display_name": "Python 3",
   "language": "python",
   "name": "python3"
  },
  "language_info": {
   "codemirror_mode": {
    "name": "ipython",
    "version": 3
   },
   "file_extension": ".py",
   "mimetype": "text/x-python",
   "name": "python",
   "nbconvert_exporter": "python",
   "pygments_lexer": "ipython3",
   "version": "3.7.7"
  }
 },
 "nbformat": 4,
 "nbformat_minor": 4
}
